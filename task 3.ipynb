{
 "cells": [
  {
   "cell_type": "markdown",
   "id": "034066a5",
   "metadata": {},
   "source": [
    "# Q1, Create a vehicle class with an init method having instance variables as name_of_vehicle, max_speed and average_of_vehicle."
   ]
  },
  {
   "cell_type": "code",
   "execution_count": 1,
   "id": "e3c9ad21",
   "metadata": {},
   "outputs": [],
   "source": [
    "class  vehicle_class:\n",
    "    def __init__( self,name,max_speed ,average):\n",
    "        self.name=name\n",
    "        self.max_speed=max_speed\n",
    "        self.average=average\n",
    "        def return_vehicle_detali(self):\n",
    "            return self.name,self.max_speed,self.average"
   ]
  },
  {
   "cell_type": "code",
   "execution_count": 2,
   "id": "6be249cd",
   "metadata": {},
   "outputs": [],
   "source": [
    "vehicle=vehicle_class(\"bike\",70,34)"
   ]
  },
  {
   "cell_type": "code",
   "execution_count": 6,
   "id": "3787789e",
   "metadata": {},
   "outputs": [
    {
     "data": {
      "text/plain": [
       "'bike'"
      ]
     },
     "execution_count": 6,
     "metadata": {},
     "output_type": "execute_result"
    }
   ],
   "source": [
    "vehicle.name"
   ]
  },
  {
   "cell_type": "markdown",
   "id": "e78dfb4c",
   "metadata": {},
   "source": [
    "# Q2..Create a child class car from the vehicle class created in Que 1, which will inherit the vehicle class. Create a method named seating_capacity which takes capacity as an argument and returns the name of the vehicle and its seating capacity."
   ]
  },
  {
   "cell_type": "markdown",
   "id": "62db2e2e",
   "metadata": {},
   "source": [
    "# Q3..What is multiple inheritance? Write a python code to demonstrate multiple inheritance."
   ]
  },
  {
   "cell_type": "code",
   "execution_count": 11,
   "id": "b5c4392a",
   "metadata": {},
   "outputs": [],
   "source": [
    "class  class1:\n",
    "    def name(self):\n",
    "        return \" this is my first class\""
   ]
  },
  {
   "cell_type": "code",
   "execution_count": 12,
   "id": "80649944",
   "metadata": {},
   "outputs": [],
   "source": [
    "class class2:\n",
    "    def my(self):\n",
    "        return \" this is my secand class\"\n",
    "    "
   ]
  },
  {
   "cell_type": "code",
   "execution_count": 14,
   "id": "fa0a1bfa",
   "metadata": {},
   "outputs": [],
   "source": [
    "class class3(class1,class2):\n",
    "    pass\n"
   ]
  },
  {
   "cell_type": "code",
   "execution_count": 15,
   "id": "e66d337e",
   "metadata": {},
   "outputs": [],
   "source": [
    "obj_class3=class3"
   ]
  },
  {
   "cell_type": "code",
   "execution_count": 16,
   "id": "61ce12f5",
   "metadata": {},
   "outputs": [
    {
     "data": {
      "text/plain": [
       "<function __main__.class1.name(self)>"
      ]
     },
     "execution_count": 16,
     "metadata": {},
     "output_type": "execute_result"
    }
   ],
   "source": [
    "obj_class3.name"
   ]
  },
  {
   "cell_type": "markdown",
   "id": "7ed9a35c",
   "metadata": {},
   "source": [
    "# Q4. What are getter and setter in python? Create a class and create a getter and a setter method in this class."
   ]
  },
  {
   "cell_type": "markdown",
   "id": "5ef88428",
   "metadata": {},
   "source": [
    " # getter used the any function value of geting and setter used the getter value difend"
   ]
  },
  {
   "cell_type": "code",
   "execution_count": 17,
   "id": "41a7101a",
   "metadata": {},
   "outputs": [],
   "source": [
    "class car:\n",
    "    def __init__(self,year,make,model,speed):\n",
    "        \n",
    "        self.__year =year\n",
    "        self.__make=make\n",
    "        self.__model=model\n",
    "        self.__speed=0\n",
    "    def set_speed(self,speed):\n",
    "        self.__speed=0 if speed<0 else speed\n",
    "            \n",
    "    def get_speed(self):\n",
    "        return self.__speed"
   ]
  },
  {
   "cell_type": "code",
   "execution_count": 18,
   "id": "a44f906a",
   "metadata": {},
   "outputs": [],
   "source": [
    "c=car(2023,\"tata\",2023,10)"
   ]
  },
  {
   "cell_type": "code",
   "execution_count": 19,
   "id": "25ba578f",
   "metadata": {},
   "outputs": [],
   "source": [
    "c.set_speed(23)"
   ]
  },
  {
   "cell_type": "code",
   "execution_count": 20,
   "id": "b239b131",
   "metadata": {},
   "outputs": [
    {
     "data": {
      "text/plain": [
       "23"
      ]
     },
     "execution_count": 20,
     "metadata": {},
     "output_type": "execute_result"
    }
   ],
   "source": [
    "c.get_speed()"
   ]
  },
  {
   "cell_type": "markdown",
   "id": "6a764818",
   "metadata": {},
   "source": [
    "# Q5.What is method overriding in python? Write a python code to demonstrate method overriding."
   ]
  },
  {
   "cell_type": "markdown",
   "id": "4a7e9f4e",
   "metadata": {},
   "source": [
    "#  ans.. Method overriding is an ability of any object-oriented programming language that allows a subclass or child class to provide a specific implementation of a method that is already provided by one of its super-classes or parent classes."
   ]
  },
  {
   "cell_type": "code",
   "execution_count": null,
   "id": "e4927801",
   "metadata": {},
   "outputs": [],
   "source": []
  }
 ],
 "metadata": {
  "kernelspec": {
   "display_name": "Python 3 (ipykernel)",
   "language": "python",
   "name": "python3"
  },
  "language_info": {
   "codemirror_mode": {
    "name": "ipython",
    "version": 3
   },
   "file_extension": ".py",
   "mimetype": "text/x-python",
   "name": "python",
   "nbconvert_exporter": "python",
   "pygments_lexer": "ipython3",
   "version": "3.10.9"
  }
 },
 "nbformat": 4,
 "nbformat_minor": 5
}
